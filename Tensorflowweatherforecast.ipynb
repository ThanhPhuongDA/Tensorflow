{
  "nbformat": 4,
  "nbformat_minor": 0,
  "metadata": {
    "colab": {
      "name": "Tensorflowweatherforecast.ipynb",
      "provenance": [],
      "collapsed_sections": [],
      "authorship_tag": "ABX9TyNkYCeIeGDgfcl70maOAAyA",
      "include_colab_link": true
    },
    "kernelspec": {
      "name": "python3",
      "display_name": "Python 3"
    },
    "language_info": {
      "name": "python"
    }
  },
  "cells": [
    {
      "cell_type": "markdown",
      "metadata": {
        "id": "view-in-github",
        "colab_type": "text"
      },
      "source": [
        "<a href=\"https://colab.research.google.com/github/phuongnt3391/Tensorflow/blob/main/Tensorflowweatherforecast.ipynb\" target=\"_parent\"><img src=\"https://colab.research.google.com/assets/colab-badge.svg\" alt=\"Open In Colab\"/></a>"
      ]
    },
    {
      "cell_type": "code",
      "metadata": {
        "colab": {
          "base_uri": "https://localhost:8080/"
        },
        "id": "9VC5a0xbLkqC",
        "outputId": "acadd90c-2294-443d-f912-08d6f6599ed8"
      },
      "source": [
        "! pip install --upgrade tensorflow-probability"
      ],
      "execution_count": 1,
      "outputs": [
        {
          "output_type": "stream",
          "text": [
            "Requirement already satisfied: tensorflow-probability in /usr/local/lib/python3.7/dist-packages (0.13.0)\n",
            "Requirement already satisfied: numpy>=1.13.3 in /usr/local/lib/python3.7/dist-packages (from tensorflow-probability) (1.19.5)\n",
            "Requirement already satisfied: gast>=0.3.2 in /usr/local/lib/python3.7/dist-packages (from tensorflow-probability) (0.4.0)\n",
            "Requirement already satisfied: six>=1.10.0 in /usr/local/lib/python3.7/dist-packages (from tensorflow-probability) (1.15.0)\n",
            "Requirement already satisfied: dm-tree in /usr/local/lib/python3.7/dist-packages (from tensorflow-probability) (0.1.6)\n",
            "Requirement already satisfied: cloudpickle>=1.3 in /usr/local/lib/python3.7/dist-packages (from tensorflow-probability) (1.3.0)\n",
            "Requirement already satisfied: decorator in /usr/local/lib/python3.7/dist-packages (from tensorflow-probability) (4.4.2)\n"
          ],
          "name": "stdout"
        }
      ]
    },
    {
      "cell_type": "code",
      "metadata": {
        "id": "EKLSzzWqMRWu"
      },
      "source": [
        "import tensorflow_probability as tfp\n",
        "import tensorflow as tf"
      ],
      "execution_count": 2,
      "outputs": []
    },
    {
      "cell_type": "markdown",
      "metadata": {
        "id": "DDSQZxNYPAYA"
      },
      "source": [
        "\n",
        "    Cold days are encoded by a 0 and hot days are encoded by a 1.\n",
        "    The first day in our sequence has an 80% chance of being cold.\n",
        "    A cold day has a 30% chance of being followed by a hot day.\n",
        "    A hot day has a 20% chance of being followed by a cold day.\n",
        "    On each day the temperature is normally distributed with mean and standard deviation 0 and 5 on a cold day and mean and standard deviation 15 and 10 on a hot day.\n"
      ]
    },
    {
      "cell_type": "code",
      "metadata": {
        "id": "QWBmJSVRMXhe"
      },
      "source": [
        "tfd = tfp.distributions\n",
        "initial_distribution = tfd.Categorical(probs = [0.2,0.8])\n",
        "transition_distribution = tfd.Categorical(probs = [[0.7,0.3],\n",
        "                                                  [0.2,0.8]])\n",
        "observation_distribution = tfd.Normal(loc=[0.,15.], scale=[5.,10.])\n"
      ],
      "execution_count": 4,
      "outputs": []
    },
    {
      "cell_type": "markdown",
      "metadata": {
        "id": "w1arPTerNEqN"
      },
      "source": [
        "Create the Hidden Markov Model"
      ]
    },
    {
      "cell_type": "code",
      "metadata": {
        "id": "yDtEWAwjNHgt"
      },
      "source": [
        "model = tfd.HiddenMarkovModel(initial_distribution =initial_distribution, \n",
        "                              transition_distribution =transition_distribution,\n",
        "                              observation_distribution=observation_distribution,\n",
        "                              num_steps=7)"
      ],
      "execution_count": 5,
      "outputs": []
    },
    {
      "cell_type": "markdown",
      "metadata": {
        "id": "PWgjgpE-NZn-"
      },
      "source": [
        "To get the expected temperatures on each day, we can do the following:"
      ]
    },
    {
      "cell_type": "code",
      "metadata": {
        "id": "jwf_pdk7NgHv"
      },
      "source": [
        "mean = model.mean()"
      ],
      "execution_count": 8,
      "outputs": []
    },
    {
      "cell_type": "code",
      "metadata": {
        "colab": {
          "base_uri": "https://localhost:8080/"
        },
        "id": "PcXNlOpzNjCV",
        "outputId": "a2514d2c-f05e-49b7-ae8f-6e0e8f557180"
      },
      "source": [
        "with tf.compat.v1.Session() as sess:\n",
        "  print(mean.numpy())"
      ],
      "execution_count": 9,
      "outputs": [
        {
          "output_type": "stream",
          "text": [
            "[11.999999 10.500001  9.75      9.375     9.1875    9.09375   9.046875]\n"
          ],
          "name": "stdout"
        }
      ]
    }
  ]
}