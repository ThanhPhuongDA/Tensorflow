{
  "nbformat": 4,
  "nbformat_minor": 0,
  "metadata": {
    "colab": {
      "name": "TensorflowClassification.ipynb",
      "provenance": [],
      "collapsed_sections": [],
      "authorship_tag": "ABX9TyNy80BCaMO+Djd39dqfR6xO",
      "include_colab_link": true
    },
    "kernelspec": {
      "name": "python3",
      "display_name": "Python 3"
    },
    "language_info": {
      "name": "python"
    }
  },
  "cells": [
    {
      "cell_type": "markdown",
      "metadata": {
        "id": "view-in-github",
        "colab_type": "text"
      },
      "source": [
        "<a href=\"https://colab.research.google.com/github/phuongnt3391/Tensorflow/blob/main/TensorflowClassification.ipynb\" target=\"_parent\"><img src=\"https://colab.research.google.com/assets/colab-badge.svg\" alt=\"Open In Colab\"/></a>"
      ]
    },
    {
      "cell_type": "code",
      "metadata": {
        "colab": {
          "base_uri": "https://localhost:8080/"
        },
        "id": "qrfmJudIgbrH",
        "outputId": "dc190008-aef7-4917-de99-53d4f15e1473"
      },
      "source": [
        "import numpy as np\n",
        "import pandas as pd\n",
        "import matplotlib.pyplot as plt\n",
        "!pip install q sklearn\n",
        "from IPython.display import clear_output\n",
        "from six.moves import urllib\n",
        "\n",
        "from __future__ import absolute_import, division, print_function, unicode_literals\n",
        "import tensorflow as tf\n",
        "import tensorflow.compat.v2.feature_column as fc"
      ],
      "execution_count": 1,
      "outputs": [
        {
          "output_type": "stream",
          "text": [
            "Collecting q\n",
            "  Downloading q-2.6-py2.py3-none-any.whl (6.8 kB)\n",
            "Requirement already satisfied: sklearn in /usr/local/lib/python3.7/dist-packages (0.0)\n",
            "Requirement already satisfied: scikit-learn in /usr/local/lib/python3.7/dist-packages (from sklearn) (0.22.2.post1)\n",
            "Requirement already satisfied: scipy>=0.17.0 in /usr/local/lib/python3.7/dist-packages (from scikit-learn->sklearn) (1.4.1)\n",
            "Requirement already satisfied: numpy>=1.11.0 in /usr/local/lib/python3.7/dist-packages (from scikit-learn->sklearn) (1.19.5)\n",
            "Requirement already satisfied: joblib>=0.11 in /usr/local/lib/python3.7/dist-packages (from scikit-learn->sklearn) (1.0.1)\n",
            "Installing collected packages: q\n",
            "Successfully installed q-2.6\n"
          ],
          "name": "stdout"
        }
      ]
    },
    {
      "cell_type": "code",
      "metadata": {
        "id": "q_q4P-3jgd9F"
      },
      "source": [
        "CSV_COLUMN_NAMES = ['SepalLength', 'SepalWidth', 'PetalLength', 'PetalWidth', 'Species']\n",
        "SPECIES = ['Setosa', 'Versicolor', 'Virginica']\n",
        "train_path = tf.keras.utils.get_file(\n",
        "    \"iris_training.csv\", \"https://storage.googleapis.com/download.tensorflow.org/data/iris_training.csv\")\n",
        "test_path = tf.keras.utils.get_file(\n",
        "    \"iris_test.csv\", \"https://storage.googleapis.com/download.tensorflow.org/data/iris_test.csv\")\n",
        "train = pd.read_csv(train_path, names=CSV_COLUMN_NAMES, header=0)\n",
        "test = pd.read_csv(test_path, names=CSV_COLUMN_NAMES, header=0)"
      ],
      "execution_count": 7,
      "outputs": []
    },
    {
      "cell_type": "code",
      "metadata": {
        "colab": {
          "base_uri": "https://localhost:8080/"
        },
        "id": "VxQp18l-geVg",
        "outputId": "356a1a8d-e934-4f12-dc5c-712cca162495"
      },
      "source": [
        "print(train.head())"
      ],
      "execution_count": 11,
      "outputs": [
        {
          "output_type": "stream",
          "text": [
            "   SepalLength  SepalWidth  PetalLength  PetalWidth  Species\n",
            "0          6.4         2.8          5.6         2.2        2\n",
            "1          5.0         2.3          3.3         1.0        1\n",
            "2          4.9         2.5          4.5         1.7        2\n",
            "3          4.9         3.1          1.5         0.1        0\n",
            "4          5.7         3.8          1.7         0.3        0\n"
          ],
          "name": "stdout"
        }
      ]
    },
    {
      "cell_type": "code",
      "metadata": {
        "colab": {
          "base_uri": "https://localhost:8080/"
        },
        "id": "qZUKDJd4i2Gq",
        "outputId": "e4b576db-96bb-4be4-b820-acae1a7d64f7"
      },
      "source": [
        "train.shape"
      ],
      "execution_count": 13,
      "outputs": [
        {
          "output_type": "execute_result",
          "data": {
            "text/plain": [
              "(120, 5)"
            ]
          },
          "metadata": {
            "tags": []
          },
          "execution_count": 13
        }
      ]
    },
    {
      "cell_type": "code",
      "metadata": {
        "colab": {
          "base_uri": "https://localhost:8080/"
        },
        "id": "UlI-DzsPkR4M",
        "outputId": "b8e4ddd7-2107-4ca7-854e-7f3161481180"
      },
      "source": [
        "test.shape"
      ],
      "execution_count": 14,
      "outputs": [
        {
          "output_type": "execute_result",
          "data": {
            "text/plain": [
              "(30, 5)"
            ]
          },
          "metadata": {
            "tags": []
          },
          "execution_count": 14
        }
      ]
    },
    {
      "cell_type": "code",
      "metadata": {
        "id": "JxfGaw40kUXR"
      },
      "source": [
        "train_y = train.pop('Species')\n",
        "test_y = test.pop('Species')"
      ],
      "execution_count": 15,
      "outputs": []
    },
    {
      "cell_type": "code",
      "metadata": {
        "colab": {
          "base_uri": "https://localhost:8080/"
        },
        "id": "Qj1d5Wb6kicH",
        "outputId": "df1433bf-603b-4670-c7fd-f648c7b0bdee"
      },
      "source": [
        "train_y"
      ],
      "execution_count": 16,
      "outputs": [
        {
          "output_type": "execute_result",
          "data": {
            "text/plain": [
              "0      2\n",
              "1      1\n",
              "2      2\n",
              "3      0\n",
              "4      0\n",
              "      ..\n",
              "115    1\n",
              "116    1\n",
              "117    0\n",
              "118    0\n",
              "119    1\n",
              "Name: Species, Length: 120, dtype: int64"
            ]
          },
          "metadata": {
            "tags": []
          },
          "execution_count": 16
        }
      ]
    },
    {
      "cell_type": "markdown",
      "metadata": {
        "id": "tvyZrbOcmuQX"
      },
      "source": [
        "Input function"
      ]
    },
    {
      "cell_type": "code",
      "metadata": {
        "id": "R0xKjLMkleag"
      },
      "source": [
        "def input_fn(features, labels, training=True, batch_size=256):\n",
        "    # Convert the inputs to a Dataset.\n",
        "    dataset = tf.data.Dataset.from_tensor_slices((dict(features), labels))\n",
        "\n",
        "    # Shuffle and repeat if you are in training mode.\n",
        "    if training:\n",
        "        dataset = dataset.shuffle(1000).repeat()\n",
        "    \n",
        "    return dataset.batch(batch_size)"
      ],
      "execution_count": 17,
      "outputs": []
    },
    {
      "cell_type": "code",
      "metadata": {
        "colab": {
          "base_uri": "https://localhost:8080/"
        },
        "id": "mPyKFXS5l6ci",
        "outputId": "d57bcaf8-bd32-41b9-9e0e-cdfbb673b1c1"
      },
      "source": [
        "train.keys()"
      ],
      "execution_count": 18,
      "outputs": [
        {
          "output_type": "execute_result",
          "data": {
            "text/plain": [
              "Index(['SepalLength', 'SepalWidth', 'PetalLength', 'PetalWidth'], dtype='object')"
            ]
          },
          "metadata": {
            "tags": []
          },
          "execution_count": 18
        }
      ]
    },
    {
      "cell_type": "markdown",
      "metadata": {
        "id": "J_y5r-Inmr-2"
      },
      "source": [
        "Feature columns"
      ]
    },
    {
      "cell_type": "code",
      "metadata": {
        "colab": {
          "base_uri": "https://localhost:8080/"
        },
        "id": "jOXrTuRfmnak",
        "outputId": "16c449c3-3b0b-4da5-cbdc-d8d2dc8796d9"
      },
      "source": [
        "feature_columns = []\n",
        "\n",
        "for key in train.keys():\n",
        "  feature_columns.append(tf.feature_column.numeric_column(key=key,dtype=tf.float32))\n",
        "print(feature_columns)"
      ],
      "execution_count": 19,
      "outputs": [
        {
          "output_type": "stream",
          "text": [
            "[NumericColumn(key='SepalLength', shape=(1,), default_value=None, dtype=tf.float32, normalizer_fn=None), NumericColumn(key='SepalWidth', shape=(1,), default_value=None, dtype=tf.float32, normalizer_fn=None), NumericColumn(key='PetalLength', shape=(1,), default_value=None, dtype=tf.float32, normalizer_fn=None), NumericColumn(key='PetalWidth', shape=(1,), default_value=None, dtype=tf.float32, normalizer_fn=None)]\n"
          ],
          "name": "stdout"
        }
      ]
    },
    {
      "cell_type": "markdown",
      "metadata": {
        "id": "sWz0jwZ2nXb4"
      },
      "source": [
        "Building the model"
      ]
    },
    {
      "cell_type": "markdown",
      "metadata": {
        "id": "uGLBFw4nn6zf"
      },
      "source": [
        "Build a DNN with 2 hidden layers with 30 and 10 hidden nodes each.\n"
      ]
    },
    {
      "cell_type": "code",
      "metadata": {
        "colab": {
          "base_uri": "https://localhost:8080/"
        },
        "id": "wqmRKFg5nZgc",
        "outputId": "4cf7cbaa-afdf-446b-d282-975afbc39389"
      },
      "source": [
        "classifier = tf.estimator.DNNClassifier(feature_columns=feature_columns, hidden_units=[30,10],n_classes=3)\n"
      ],
      "execution_count": 22,
      "outputs": [
        {
          "output_type": "stream",
          "text": [
            "INFO:tensorflow:Using default config.\n",
            "WARNING:tensorflow:Using temporary folder as model directory: /tmp/tmpe50xekp8\n",
            "INFO:tensorflow:Using config: {'_model_dir': '/tmp/tmpe50xekp8', '_tf_random_seed': None, '_save_summary_steps': 100, '_save_checkpoints_steps': None, '_save_checkpoints_secs': 600, '_session_config': allow_soft_placement: true\n",
            "graph_options {\n",
            "  rewrite_options {\n",
            "    meta_optimizer_iterations: ONE\n",
            "  }\n",
            "}\n",
            ", '_keep_checkpoint_max': 5, '_keep_checkpoint_every_n_hours': 10000, '_log_step_count_steps': 100, '_train_distribute': None, '_device_fn': None, '_protocol': None, '_eval_distribute': None, '_experimental_distribute': None, '_experimental_max_worker_delay_secs': None, '_session_creation_timeout_secs': 7200, '_checkpoint_save_graph_def': True, '_service': None, '_cluster_spec': ClusterSpec({}), '_task_type': 'worker', '_task_id': 0, '_global_id_in_cluster': 0, '_master': '', '_evaluation_master': '', '_is_chief': True, '_num_ps_replicas': 0, '_num_worker_replicas': 1}\n"
          ],
          "name": "stdout"
        }
      ]
    },
    {
      "cell_type": "markdown",
      "metadata": {
        "id": "Vy2OBQOZqOb0"
      },
      "source": [
        "What we've just done is created a deep neural network that has two hidden layers. These layers have 30 and 10 neurons respectively. This is the number of neurons the TensorFlow official tutorial uses so we'll stick with it. However, it is worth mentioning that the number of hidden neurons is an arbitrary number and many experiments and tests are usually done to determine the best choice for these values. Try playing around with the number of hidden neurons and see if your results change."
      ]
    },
    {
      "cell_type": "code",
      "metadata": {
        "colab": {
          "base_uri": "https://localhost:8080/"
        },
        "id": "9hBebARgrcAP",
        "outputId": "53f342fa-fdc0-45b2-dead-bf06d7c1d00e"
      },
      "source": [
        "classifier.train(\n",
        "    input_fn=lambda: input_fn(train, train_y, training=True),\n",
        "    steps=5000)\n",
        "# We include a lambda to avoid creating an inner function previously"
      ],
      "execution_count": 23,
      "outputs": [
        {
          "output_type": "stream",
          "text": [
            "WARNING:tensorflow:From /usr/local/lib/python3.7/dist-packages/tensorflow/python/training/training_util.py:236: Variable.initialized_value (from tensorflow.python.ops.variables) is deprecated and will be removed in a future version.\n",
            "Instructions for updating:\n",
            "Use Variable.read_value. Variables in 2.X are initialized automatically both in eager and graph (inside tf.defun) contexts.\n",
            "INFO:tensorflow:Calling model_fn.\n",
            "WARNING:tensorflow:From /usr/local/lib/python3.7/dist-packages/tensorflow/python/keras/optimizer_v2/adagrad.py:88: calling Constant.__init__ (from tensorflow.python.ops.init_ops) with dtype is deprecated and will be removed in a future version.\n",
            "Instructions for updating:\n",
            "Call initializer instance with the dtype argument instead of passing it to the constructor\n",
            "INFO:tensorflow:Done calling model_fn.\n",
            "INFO:tensorflow:Create CheckpointSaverHook.\n",
            "INFO:tensorflow:Graph was finalized.\n",
            "INFO:tensorflow:Running local_init_op.\n",
            "INFO:tensorflow:Done running local_init_op.\n",
            "INFO:tensorflow:Calling checkpoint listeners before saving checkpoint 0...\n",
            "INFO:tensorflow:Saving checkpoints for 0 into /tmp/tmpe50xekp8/model.ckpt.\n",
            "INFO:tensorflow:Calling checkpoint listeners after saving checkpoint 0...\n",
            "INFO:tensorflow:loss = 1.447165, step = 0\n",
            "INFO:tensorflow:global_step/sec: 487.337\n",
            "INFO:tensorflow:loss = 0.9468813, step = 100 (0.210 sec)\n",
            "INFO:tensorflow:global_step/sec: 529.58\n",
            "INFO:tensorflow:loss = 0.86752874, step = 200 (0.189 sec)\n",
            "INFO:tensorflow:global_step/sec: 534.618\n",
            "INFO:tensorflow:loss = 0.8279718, step = 300 (0.187 sec)\n",
            "INFO:tensorflow:global_step/sec: 558.942\n",
            "INFO:tensorflow:loss = 0.7710726, step = 400 (0.176 sec)\n",
            "INFO:tensorflow:global_step/sec: 565.426\n",
            "INFO:tensorflow:loss = 0.71383536, step = 500 (0.180 sec)\n",
            "INFO:tensorflow:global_step/sec: 542.831\n",
            "INFO:tensorflow:loss = 0.6965881, step = 600 (0.182 sec)\n",
            "INFO:tensorflow:global_step/sec: 583.024\n",
            "INFO:tensorflow:loss = 0.6792197, step = 700 (0.175 sec)\n",
            "INFO:tensorflow:global_step/sec: 556.334\n",
            "INFO:tensorflow:loss = 0.6440481, step = 800 (0.180 sec)\n",
            "INFO:tensorflow:global_step/sec: 571.502\n",
            "INFO:tensorflow:loss = 0.63254607, step = 900 (0.175 sec)\n",
            "INFO:tensorflow:global_step/sec: 508.364\n",
            "INFO:tensorflow:loss = 0.6228031, step = 1000 (0.193 sec)\n",
            "INFO:tensorflow:global_step/sec: 578.493\n",
            "INFO:tensorflow:loss = 0.5946381, step = 1100 (0.175 sec)\n",
            "INFO:tensorflow:global_step/sec: 539.186\n",
            "INFO:tensorflow:loss = 0.5952428, step = 1200 (0.185 sec)\n",
            "INFO:tensorflow:global_step/sec: 604.631\n",
            "INFO:tensorflow:loss = 0.5818651, step = 1300 (0.163 sec)\n",
            "INFO:tensorflow:global_step/sec: 548.685\n",
            "INFO:tensorflow:loss = 0.56066465, step = 1400 (0.182 sec)\n",
            "INFO:tensorflow:global_step/sec: 527.452\n",
            "INFO:tensorflow:loss = 0.5639118, step = 1500 (0.189 sec)\n",
            "INFO:tensorflow:global_step/sec: 567.104\n",
            "INFO:tensorflow:loss = 0.55080104, step = 1600 (0.180 sec)\n",
            "INFO:tensorflow:global_step/sec: 549.275\n",
            "INFO:tensorflow:loss = 0.53544366, step = 1700 (0.182 sec)\n",
            "INFO:tensorflow:global_step/sec: 557.069\n",
            "INFO:tensorflow:loss = 0.53359437, step = 1800 (0.179 sec)\n",
            "INFO:tensorflow:global_step/sec: 569.644\n",
            "INFO:tensorflow:loss = 0.5223242, step = 1900 (0.176 sec)\n",
            "INFO:tensorflow:global_step/sec: 569.246\n",
            "INFO:tensorflow:loss = 0.50307584, step = 2000 (0.173 sec)\n",
            "INFO:tensorflow:global_step/sec: 571.428\n",
            "INFO:tensorflow:loss = 0.5140114, step = 2100 (0.175 sec)\n",
            "INFO:tensorflow:global_step/sec: 574.282\n",
            "INFO:tensorflow:loss = 0.48900777, step = 2200 (0.176 sec)\n",
            "INFO:tensorflow:global_step/sec: 552.922\n",
            "INFO:tensorflow:loss = 0.5135058, step = 2300 (0.179 sec)\n",
            "INFO:tensorflow:global_step/sec: 587.089\n",
            "INFO:tensorflow:loss = 0.48590204, step = 2400 (0.172 sec)\n",
            "INFO:tensorflow:global_step/sec: 593.774\n",
            "INFO:tensorflow:loss = 0.49332404, step = 2500 (0.170 sec)\n",
            "INFO:tensorflow:global_step/sec: 557.564\n",
            "INFO:tensorflow:loss = 0.4917746, step = 2600 (0.176 sec)\n",
            "INFO:tensorflow:global_step/sec: 488.842\n",
            "INFO:tensorflow:loss = 0.47657436, step = 2700 (0.204 sec)\n",
            "INFO:tensorflow:global_step/sec: 581.989\n",
            "INFO:tensorflow:loss = 0.46882012, step = 2800 (0.172 sec)\n",
            "INFO:tensorflow:global_step/sec: 581.963\n",
            "INFO:tensorflow:loss = 0.46574533, step = 2900 (0.174 sec)\n",
            "INFO:tensorflow:global_step/sec: 553.778\n",
            "INFO:tensorflow:loss = 0.45781586, step = 3000 (0.178 sec)\n",
            "INFO:tensorflow:global_step/sec: 556.881\n",
            "INFO:tensorflow:loss = 0.43991268, step = 3100 (0.179 sec)\n",
            "INFO:tensorflow:global_step/sec: 549.293\n",
            "INFO:tensorflow:loss = 0.45188677, step = 3200 (0.185 sec)\n",
            "INFO:tensorflow:global_step/sec: 535.76\n",
            "INFO:tensorflow:loss = 0.4475651, step = 3300 (0.188 sec)\n",
            "INFO:tensorflow:global_step/sec: 515.326\n",
            "INFO:tensorflow:loss = 0.44580802, step = 3400 (0.194 sec)\n",
            "INFO:tensorflow:global_step/sec: 573.204\n",
            "INFO:tensorflow:loss = 0.43297192, step = 3500 (0.173 sec)\n",
            "INFO:tensorflow:global_step/sec: 579.838\n",
            "INFO:tensorflow:loss = 0.42900473, step = 3600 (0.170 sec)\n",
            "INFO:tensorflow:global_step/sec: 568.654\n",
            "INFO:tensorflow:loss = 0.41991982, step = 3700 (0.179 sec)\n",
            "INFO:tensorflow:global_step/sec: 498.501\n",
            "INFO:tensorflow:loss = 0.43493614, step = 3800 (0.197 sec)\n",
            "INFO:tensorflow:global_step/sec: 575.712\n",
            "INFO:tensorflow:loss = 0.41912252, step = 3900 (0.176 sec)\n",
            "INFO:tensorflow:global_step/sec: 584.583\n",
            "INFO:tensorflow:loss = 0.40773165, step = 4000 (0.168 sec)\n",
            "INFO:tensorflow:global_step/sec: 601.913\n",
            "INFO:tensorflow:loss = 0.4142838, step = 4100 (0.169 sec)\n",
            "INFO:tensorflow:global_step/sec: 574.56\n",
            "INFO:tensorflow:loss = 0.4079049, step = 4200 (0.171 sec)\n",
            "INFO:tensorflow:global_step/sec: 570.363\n",
            "INFO:tensorflow:loss = 0.4002533, step = 4300 (0.178 sec)\n",
            "INFO:tensorflow:global_step/sec: 543.628\n",
            "INFO:tensorflow:loss = 0.39377636, step = 4400 (0.184 sec)\n",
            "INFO:tensorflow:global_step/sec: 556.486\n",
            "INFO:tensorflow:loss = 0.40104216, step = 4500 (0.180 sec)\n",
            "INFO:tensorflow:global_step/sec: 552.923\n",
            "INFO:tensorflow:loss = 0.40041316, step = 4600 (0.178 sec)\n",
            "INFO:tensorflow:global_step/sec: 538.229\n",
            "INFO:tensorflow:loss = 0.3927619, step = 4700 (0.189 sec)\n",
            "INFO:tensorflow:global_step/sec: 526.833\n",
            "INFO:tensorflow:loss = 0.39096904, step = 4800 (0.188 sec)\n",
            "INFO:tensorflow:global_step/sec: 541.309\n",
            "INFO:tensorflow:loss = 0.3962469, step = 4900 (0.186 sec)\n",
            "INFO:tensorflow:Calling checkpoint listeners before saving checkpoint 5000...\n",
            "INFO:tensorflow:Saving checkpoints for 5000 into /tmp/tmpe50xekp8/model.ckpt.\n",
            "INFO:tensorflow:Calling checkpoint listeners after saving checkpoint 5000...\n",
            "INFO:tensorflow:Loss for final step: 0.3978502.\n"
          ],
          "name": "stdout"
        },
        {
          "output_type": "execute_result",
          "data": {
            "text/plain": [
              "<tensorflow_estimator.python.estimator.canned.dnn.DNNClassifierV2 at 0x7feaf1530f50>"
            ]
          },
          "metadata": {
            "tags": []
          },
          "execution_count": 23
        }
      ]
    },
    {
      "cell_type": "code",
      "metadata": {
        "colab": {
          "base_uri": "https://localhost:8080/"
        },
        "id": "m46_lllwr1VQ",
        "outputId": "8ebbb97c-18fd-45c3-f331-f43ed8bd47c4"
      },
      "source": [
        "eval_result  = classifier.evaluate(input_fn=lambda: input_fn(test, test_y, training=False))"
      ],
      "execution_count": 26,
      "outputs": [
        {
          "output_type": "stream",
          "text": [
            "INFO:tensorflow:Calling model_fn.\n",
            "INFO:tensorflow:Done calling model_fn.\n",
            "INFO:tensorflow:Starting evaluation at 2021-08-08T12:17:31\n",
            "INFO:tensorflow:Graph was finalized.\n",
            "INFO:tensorflow:Restoring parameters from /tmp/tmpe50xekp8/model.ckpt-5000\n",
            "INFO:tensorflow:Running local_init_op.\n",
            "INFO:tensorflow:Done running local_init_op.\n",
            "INFO:tensorflow:Inference Time : 0.22657s\n",
            "INFO:tensorflow:Finished evaluation at 2021-08-08-12:17:32\n",
            "INFO:tensorflow:Saving dict for global step 5000: accuracy = 0.8666667, average_loss = 0.46012515, global_step = 5000, loss = 0.46012515\n",
            "INFO:tensorflow:Saving 'checkpoint_path' summary for global step 5000: /tmp/tmpe50xekp8/model.ckpt-5000\n"
          ],
          "name": "stdout"
        }
      ]
    },
    {
      "cell_type": "code",
      "metadata": {
        "colab": {
          "base_uri": "https://localhost:8080/"
        },
        "id": "G7014Xntsl0C",
        "outputId": "a4624db0-2c74-44c2-cde7-0068325ae430"
      },
      "source": [
        "print('\\nTest set accuracy: {accuracy:0.3f}\\n'.format(**eval_result))"
      ],
      "execution_count": 27,
      "outputs": [
        {
          "output_type": "stream",
          "text": [
            "\n",
            "Test set accuracy: 0.867\n",
            "\n"
          ],
          "name": "stdout"
        }
      ]
    },
    {
      "cell_type": "code",
      "metadata": {
        "colab": {
          "base_uri": "https://localhost:8080/"
        },
        "id": "tCLLYcaau9J2",
        "outputId": "9a1056c3-8b05-4a85-af1e-8af42cd9381b"
      },
      "source": [
        "def input_fn(features, batch_size=256):\n",
        "    # Convert the inputs to a Dataset without labels.\n",
        "    return tf.data.Dataset.from_tensor_slices(dict(features)).batch(batch_size)\n",
        "\n",
        "features = ['SepalLength', 'SepalWidth', 'PetalLength', 'PetalWidth']\n",
        "predict = {}\n",
        "\n",
        "print(\"Please type numeric values as prompted.\")\n",
        "for feature in features:\n",
        "  valid = True\n",
        "  while valid: \n",
        "    val = input(feature + \": \")\n",
        "    if not val.isdigit(): valid = False\n",
        "\n",
        "  predict[feature] = [float(val)]\n",
        "  predictions = classifier.predict(input_fn=lambda: input_fn(predict))\n",
        "for pred_dict in predictions:\n",
        "    class_id = pred_dict['class_ids'][0]\n",
        "    probability = pred_dict['probabilities'][class_id]\n",
        "\n",
        "    print('Prediction is \"{}\" ({:.1f}%)'.format(\n",
        "        SPECIES[class_id], 100 * probability))"
      ],
      "execution_count": 29,
      "outputs": [
        {
          "output_type": "stream",
          "text": [
            "Please type numeric values as prompted.\n",
            "SepalLength: 2.1\n",
            "SepalWidth: 2.5\n",
            "PetalLength: 5.0\n",
            "PetalWidth: 5.5\n",
            "INFO:tensorflow:Calling model_fn.\n",
            "INFO:tensorflow:Done calling model_fn.\n",
            "INFO:tensorflow:Graph was finalized.\n",
            "INFO:tensorflow:Restoring parameters from /tmp/tmpe50xekp8/model.ckpt-5000\n",
            "INFO:tensorflow:Running local_init_op.\n",
            "INFO:tensorflow:Done running local_init_op.\n",
            "Prediction is \"Virginica\" (65.0%)\n"
          ],
          "name": "stdout"
        }
      ]
    }
  ]
}